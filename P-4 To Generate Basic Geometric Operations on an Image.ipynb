{
 "cells": [
  {
   "cell_type": "code",
   "execution_count": null,
   "id": "10814d8b",
   "metadata": {},
   "outputs": [],
   "source": [
    "import cv2\n",
    "import numpy as np\n",
    "from google.colab.patches import cv2_imshow\n",
    "\n",
    "# Create a black image of size 512x512 for the line\n",
    "image = np.zeros((512, 512, 3), np.uint8)\n",
    "cv2.line(image, (0, 0), (500, 500), (255, 255, 255), 5)\n",
    "cv2_imshow(image)\n",
    "\n",
    "\n",
    "\n",
    "\n",
    "# Create a black image of size 512x512 for the arrowed line\n",
    "image = np.zeros((512, 512, 3), np.uint8)\n",
    "cv2.arrowedLine(image, (500, 0), (0, 500), (255, 255, 255), 5)\n",
    "cv2_imshow(image)\n",
    "\n",
    "\n",
    "\n",
    "\n",
    "# Create a black image of size 512x512 for the rectangle\n",
    "image = np.zeros((512, 512, 3), np.uint8)\n",
    "cv2.rectangle(image, (100, 100), (400, 400), (255, 255, 255), 5)\n",
    "cv2_imshow(image)\n",
    "\n",
    "\n",
    "\n",
    "\n",
    "# Create a black image of size 512x512 for the circle\n",
    "image = np.zeros((512, 512, 3), np.uint8)\n",
    "cv2.circle(image, (250, 250), 100, (255, 255, 255), 5)\n",
    "cv2_imshow(image)\n",
    "\n",
    "\n",
    "\n",
    "\n",
    "# Create a black image of size 512x512 for the text\n",
    "image = np.zeros((512, 512, 3), np.uint8)\n",
    "cv2.putText(image, 'OpenCV', (50, 450), cv2.FONT_HERSHEY_SIMPLEX, 2, (255, 255, 255), 5)\n",
    "cv2_imshow(image)"
   ]
  }
 ],
 "metadata": {
  "kernelspec": {
   "display_name": "Python 3 (ipykernel)",
   "language": "python",
   "name": "python3"
  },
  "language_info": {
   "codemirror_mode": {
    "name": "ipython",
    "version": 3
   },
   "file_extension": ".py",
   "mimetype": "text/x-python",
   "name": "python",
   "nbconvert_exporter": "python",
   "pygments_lexer": "ipython3",
   "version": "3.11.5"
  }
 },
 "nbformat": 4,
 "nbformat_minor": 5
}
