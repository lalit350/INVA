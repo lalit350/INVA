{
 "cells": [
  {
   "cell_type": "code",
   "execution_count": null,
   "id": "c8baad90",
   "metadata": {},
   "outputs": [],
   "source": [
    "import cv2\n",
    "from google.colab.patches import cv2_imshow\n",
    "\n",
    "# Load and display the first image (color)\n",
    "image_path = '/content/lion.jpg'\n",
    "image = cv2.imread(image_path)\n",
    "\n",
    "if image is None:\n",
    "    print(f\"Error: Image not found at {image_path}\")\n",
    "else:\n",
    "    image = cv2.cvtColor(image, cv2.COLOR_BGR2RGB)\n",
    "    \n",
    "    # Print the entire pixel array\n",
    "    print(\"\\n--- Image 1 (Color) Pixel Array ---\")\n",
    "    print(image)  # Entire pixel array\n",
    "    \n",
    "    # Display the image\n",
    "    cv2_imshow(image)\n",
    "\n",
    "    # Print the truncated pixel array\n",
    "    print(\"\\n--- Image 1 (Color) Truncated Pixel Array ---\")\n",
    "    print(image[:5, :5])  # Truncated pixel array (first 5x5 pixels)\n",
    "    \n",
    "    # Save the processed image\n",
    "    new_image_path = '/content/processed_image.jpg'\n",
    "    cv2.imwrite(new_image_path, image)\n",
    "\n",
    "\n",
    "\n",
    "\n",
    "\n",
    "\n",
    "# Load and display the second image (grayscale)\n",
    "image_path = '/content/road.jpg'\n",
    "image2 = cv2.imread(image_path, cv2.IMREAD_GRAYSCALE)\n",
    "\n",
    "if image2 is None:\n",
    "    print(f\"Error: Image not found at {image_path}\")\n",
    "else:\n",
    "    # Print the entire pixel array\n",
    "    print(\"\\n--- Image 2 (Grayscale) Pixel Array ---\")\n",
    "    print(image2)  # Entire pixel array\n",
    "    \n",
    "    # Display the image\n",
    "    cv2_imshow(image2)\n",
    "\n",
    "    # Print the truncated pixel array\n",
    "    print(\"\\n--- Image 2 (Grayscale) Truncated Pixel Array ---\")\n",
    "    print(image2[:5, :5])  # Truncated pixel array (first 5x5 pixels)\n",
    "    \n",
    "    # Save the grayscale image\n",
    "    new_image_path = '/content/greyscale.jpg'\n",
    "    cv2.imwrite(new_image_path, image2)\n"
   ]
  }
 ],
 "metadata": {
  "kernelspec": {
   "display_name": "Python 3 (ipykernel)",
   "language": "python",
   "name": "python3"
  },
  "language_info": {
   "codemirror_mode": {
    "name": "ipython",
    "version": 3
   },
   "file_extension": ".py",
   "mimetype": "text/x-python",
   "name": "python",
   "nbconvert_exporter": "python",
   "pygments_lexer": "ipython3",
   "version": "3.11.5"
  }
 },
 "nbformat": 4,
 "nbformat_minor": 5
}
